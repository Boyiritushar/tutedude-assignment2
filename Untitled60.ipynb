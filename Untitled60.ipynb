{
  "nbformat": 4,
  "nbformat_minor": 0,
  "metadata": {
    "colab": {
      "provenance": [],
      "authorship_tag": "ABX9TyM1XW8XDelGn0iEZErXQyR8",
      "include_colab_link": true
    },
    "kernelspec": {
      "name": "python3",
      "display_name": "Python 3"
    },
    "language_info": {
      "name": "python"
    }
  },
  "cells": [
    {
      "cell_type": "markdown",
      "metadata": {
        "id": "view-in-github",
        "colab_type": "text"
      },
      "source": [
        "<a href=\"https://colab.research.google.com/github/Boyiritushar/tutedude-assignment2/blob/main/Untitled60.ipynb\" target=\"_parent\"><img src=\"https://colab.research.google.com/assets/colab-badge.svg\" alt=\"Open In Colab\"/></a>"
      ]
    },
    {
      "cell_type": "markdown",
      "source": [],
      "metadata": {
        "id": "uSH4alSmmCBf"
      }
    },
    {
      "cell_type": "markdown",
      "source": [
        "# ASSIGNMENT **2**"
      ],
      "metadata": {
        "id": "kIkfqUfjmBe3"
      }
    },
    {
      "cell_type": "markdown",
      "source": [
        "CHECK IF A NUMBER IS EVEN OR ODD USING IF ELSE"
      ],
      "metadata": {
        "id": "IK5KAmH6mIcq"
      }
    },
    {
      "cell_type": "code",
      "source": [
        "number=int(input(\"enter a number : \"))\n",
        "if number%2==0 :\n",
        "  print(\"entered number is even\")\n",
        "else:\n",
        "  print(\"entered number is odd\")"
      ],
      "metadata": {
        "colab": {
          "base_uri": "https://localhost:8080/"
        },
        "id": "y7qekZiwmGT-",
        "outputId": "8e0b2044-d03e-4334-dbcb-9648b1c5a3e3"
      },
      "execution_count": 6,
      "outputs": [
        {
          "output_type": "stream",
          "name": "stdout",
          "text": [
            "enter a number : 4\n",
            "entered number is even\n"
          ]
        }
      ]
    },
    {
      "cell_type": "code",
      "source": [
        "number=int(input(\"enter a number : \"))\n",
        "if number%2==0 :\n",
        "  print(\"entered number is even\")\n",
        "else:\n",
        "  print(\"entered number is odd\")"
      ],
      "metadata": {
        "colab": {
          "base_uri": "https://localhost:8080/"
        },
        "id": "ezLBdKclm_ia",
        "outputId": "edb54ee7-d3a7-4e89-be05-feac6e27590b"
      },
      "execution_count": 7,
      "outputs": [
        {
          "output_type": "stream",
          "name": "stdout",
          "text": [
            "enter a number : 5\n",
            "entered number is odd\n"
          ]
        }
      ]
    },
    {
      "cell_type": "markdown",
      "source": [
        "  PRINT THE SUM OF NUMBERS FROM 1 TO 50 USING LOOPS"
      ],
      "metadata": {
        "id": "wOFCrUK1m1Fi"
      }
    },
    {
      "cell_type": "code",
      "source": [
        "total=0\n",
        "\n",
        "for i in range(1,51):\n",
        "  total+=i\n",
        "\n",
        "print(\"sum of numbers from 1 to 50 is : \",total)"
      ],
      "metadata": {
        "colab": {
          "base_uri": "https://localhost:8080/"
        },
        "id": "RO7WDJ0WnI5Z",
        "outputId": "304699e7-9dc3-443d-8f86-ecdf4b904087"
      },
      "execution_count": 12,
      "outputs": [
        {
          "output_type": "stream",
          "name": "stdout",
          "text": [
            "sum of numbers from 1 to 50 is :  1275\n"
          ]
        }
      ]
    }
  ]
}